{
 "cells": [
  {
   "cell_type": "markdown",
   "id": "deaad00b",
   "metadata": {
    "papermill": {
     "duration": 0.005955,
     "end_time": "2022-12-16T06:52:23.593420",
     "exception": false,
     "start_time": "2022-12-16T06:52:23.587465",
     "status": "completed"
    },
    "tags": []
   },
   "source": [
    "**This notebook is an exercise in the [Pandas](https://www.kaggle.com/learn/pandas) course.  You can reference the tutorial at [this link](https://www.kaggle.com/residentmario/summary-functions-and-maps).**\n",
    "\n",
    "---\n"
   ]
  },
  {
   "cell_type": "markdown",
   "id": "9892d54b",
   "metadata": {
    "papermill": {
     "duration": 0.004932,
     "end_time": "2022-12-16T06:52:23.603567",
     "exception": false,
     "start_time": "2022-12-16T06:52:23.598635",
     "status": "completed"
    },
    "tags": []
   },
   "source": [
    "# Introduction\n",
    "\n",
    "Now you are ready to get a deeper understanding of your data.\n",
    "\n",
    "Run the following cell to load your data and some utility functions (including code to check your answers)."
   ]
  },
  {
   "cell_type": "code",
   "execution_count": 1,
   "id": "bac55990",
   "metadata": {
    "execution": {
     "iopub.execute_input": "2022-12-16T06:52:23.615670Z",
     "iopub.status.busy": "2022-12-16T06:52:23.615136Z",
     "iopub.status.idle": "2022-12-16T06:52:29.412691Z",
     "shell.execute_reply": "2022-12-16T06:52:29.411557Z"
    },
    "papermill": {
     "duration": 5.806157,
     "end_time": "2022-12-16T06:52:29.414894",
     "exception": false,
     "start_time": "2022-12-16T06:52:23.608737",
     "status": "completed"
    },
    "tags": []
   },
   "outputs": [
    {
     "name": "stdout",
     "output_type": "stream",
     "text": [
      "Setup complete.\n"
     ]
    },
    {
     "data": {
      "text/html": [
       "<div>\n",
       "<style scoped>\n",
       "    .dataframe tbody tr th:only-of-type {\n",
       "        vertical-align: middle;\n",
       "    }\n",
       "\n",
       "    .dataframe tbody tr th {\n",
       "        vertical-align: top;\n",
       "    }\n",
       "\n",
       "    .dataframe thead th {\n",
       "        text-align: right;\n",
       "    }\n",
       "</style>\n",
       "<table border=\"1\" class=\"dataframe\">\n",
       "  <thead>\n",
       "    <tr style=\"text-align: right;\">\n",
       "      <th></th>\n",
       "      <th>country</th>\n",
       "      <th>description</th>\n",
       "      <th>designation</th>\n",
       "      <th>points</th>\n",
       "      <th>price</th>\n",
       "      <th>province</th>\n",
       "      <th>region_1</th>\n",
       "      <th>region_2</th>\n",
       "      <th>taster_name</th>\n",
       "      <th>taster_twitter_handle</th>\n",
       "      <th>title</th>\n",
       "      <th>variety</th>\n",
       "      <th>winery</th>\n",
       "    </tr>\n",
       "  </thead>\n",
       "  <tbody>\n",
       "    <tr>\n",
       "      <th>0</th>\n",
       "      <td>Italy</td>\n",
       "      <td>Aromas include tropical fruit, broom, brimston...</td>\n",
       "      <td>Vulkà Bianco</td>\n",
       "      <td>87</td>\n",
       "      <td>NaN</td>\n",
       "      <td>Sicily &amp; Sardinia</td>\n",
       "      <td>Etna</td>\n",
       "      <td>NaN</td>\n",
       "      <td>Kerin O’Keefe</td>\n",
       "      <td>@kerinokeefe</td>\n",
       "      <td>Nicosia 2013 Vulkà Bianco  (Etna)</td>\n",
       "      <td>White Blend</td>\n",
       "      <td>Nicosia</td>\n",
       "    </tr>\n",
       "    <tr>\n",
       "      <th>1</th>\n",
       "      <td>Portugal</td>\n",
       "      <td>This is ripe and fruity, a wine that is smooth...</td>\n",
       "      <td>Avidagos</td>\n",
       "      <td>87</td>\n",
       "      <td>15.0</td>\n",
       "      <td>Douro</td>\n",
       "      <td>NaN</td>\n",
       "      <td>NaN</td>\n",
       "      <td>Roger Voss</td>\n",
       "      <td>@vossroger</td>\n",
       "      <td>Quinta dos Avidagos 2011 Avidagos Red (Douro)</td>\n",
       "      <td>Portuguese Red</td>\n",
       "      <td>Quinta dos Avidagos</td>\n",
       "    </tr>\n",
       "    <tr>\n",
       "      <th>2</th>\n",
       "      <td>US</td>\n",
       "      <td>Tart and snappy, the flavors of lime flesh and...</td>\n",
       "      <td>NaN</td>\n",
       "      <td>87</td>\n",
       "      <td>14.0</td>\n",
       "      <td>Oregon</td>\n",
       "      <td>Willamette Valley</td>\n",
       "      <td>Willamette Valley</td>\n",
       "      <td>Paul Gregutt</td>\n",
       "      <td>@paulgwine</td>\n",
       "      <td>Rainstorm 2013 Pinot Gris (Willamette Valley)</td>\n",
       "      <td>Pinot Gris</td>\n",
       "      <td>Rainstorm</td>\n",
       "    </tr>\n",
       "    <tr>\n",
       "      <th>3</th>\n",
       "      <td>US</td>\n",
       "      <td>Pineapple rind, lemon pith and orange blossom ...</td>\n",
       "      <td>Reserve Late Harvest</td>\n",
       "      <td>87</td>\n",
       "      <td>13.0</td>\n",
       "      <td>Michigan</td>\n",
       "      <td>Lake Michigan Shore</td>\n",
       "      <td>NaN</td>\n",
       "      <td>Alexander Peartree</td>\n",
       "      <td>NaN</td>\n",
       "      <td>St. Julian 2013 Reserve Late Harvest Riesling ...</td>\n",
       "      <td>Riesling</td>\n",
       "      <td>St. Julian</td>\n",
       "    </tr>\n",
       "    <tr>\n",
       "      <th>4</th>\n",
       "      <td>US</td>\n",
       "      <td>Much like the regular bottling from 2012, this...</td>\n",
       "      <td>Vintner's Reserve Wild Child Block</td>\n",
       "      <td>87</td>\n",
       "      <td>65.0</td>\n",
       "      <td>Oregon</td>\n",
       "      <td>Willamette Valley</td>\n",
       "      <td>Willamette Valley</td>\n",
       "      <td>Paul Gregutt</td>\n",
       "      <td>@paulgwine</td>\n",
       "      <td>Sweet Cheeks 2012 Vintner's Reserve Wild Child...</td>\n",
       "      <td>Pinot Noir</td>\n",
       "      <td>Sweet Cheeks</td>\n",
       "    </tr>\n",
       "  </tbody>\n",
       "</table>\n",
       "</div>"
      ],
      "text/plain": [
       "    country                                        description  \\\n",
       "0     Italy  Aromas include tropical fruit, broom, brimston...   \n",
       "1  Portugal  This is ripe and fruity, a wine that is smooth...   \n",
       "2        US  Tart and snappy, the flavors of lime flesh and...   \n",
       "3        US  Pineapple rind, lemon pith and orange blossom ...   \n",
       "4        US  Much like the regular bottling from 2012, this...   \n",
       "\n",
       "                          designation  points  price           province  \\\n",
       "0                        Vulkà Bianco      87    NaN  Sicily & Sardinia   \n",
       "1                            Avidagos      87   15.0              Douro   \n",
       "2                                 NaN      87   14.0             Oregon   \n",
       "3                Reserve Late Harvest      87   13.0           Michigan   \n",
       "4  Vintner's Reserve Wild Child Block      87   65.0             Oregon   \n",
       "\n",
       "              region_1           region_2         taster_name  \\\n",
       "0                 Etna                NaN       Kerin O’Keefe   \n",
       "1                  NaN                NaN          Roger Voss   \n",
       "2    Willamette Valley  Willamette Valley        Paul Gregutt   \n",
       "3  Lake Michigan Shore                NaN  Alexander Peartree   \n",
       "4    Willamette Valley  Willamette Valley        Paul Gregutt   \n",
       "\n",
       "  taster_twitter_handle                                              title  \\\n",
       "0          @kerinokeefe                  Nicosia 2013 Vulkà Bianco  (Etna)   \n",
       "1            @vossroger      Quinta dos Avidagos 2011 Avidagos Red (Douro)   \n",
       "2           @paulgwine       Rainstorm 2013 Pinot Gris (Willamette Valley)   \n",
       "3                   NaN  St. Julian 2013 Reserve Late Harvest Riesling ...   \n",
       "4           @paulgwine   Sweet Cheeks 2012 Vintner's Reserve Wild Child...   \n",
       "\n",
       "          variety               winery  \n",
       "0     White Blend              Nicosia  \n",
       "1  Portuguese Red  Quinta dos Avidagos  \n",
       "2      Pinot Gris            Rainstorm  \n",
       "3        Riesling           St. Julian  \n",
       "4      Pinot Noir         Sweet Cheeks  "
      ]
     },
     "execution_count": 1,
     "metadata": {},
     "output_type": "execute_result"
    }
   ],
   "source": [
    "import pandas as pd\n",
    "pd.set_option(\"display.max_rows\", 5)\n",
    "reviews = pd.read_csv(\"../input/wine-reviews/winemag-data-130k-v2.csv\", index_col=0)\n",
    "\n",
    "from learntools.core import binder; binder.bind(globals())\n",
    "from learntools.pandas.summary_functions_and_maps import *\n",
    "print(\"Setup complete.\")\n",
    "\n",
    "reviews.head()"
   ]
  },
  {
   "cell_type": "markdown",
   "id": "a4cfdd1c",
   "metadata": {
    "papermill": {
     "duration": 0.005077,
     "end_time": "2022-12-16T06:52:29.425573",
     "exception": false,
     "start_time": "2022-12-16T06:52:29.420496",
     "status": "completed"
    },
    "tags": []
   },
   "source": [
    "# Exercises"
   ]
  },
  {
   "cell_type": "markdown",
   "id": "0021065b",
   "metadata": {
    "papermill": {
     "duration": 0.005172,
     "end_time": "2022-12-16T06:52:29.435916",
     "exception": false,
     "start_time": "2022-12-16T06:52:29.430744",
     "status": "completed"
    },
    "tags": []
   },
   "source": [
    "## 1.\n",
    "\n",
    "What is the median of the `points` column in the `reviews` DataFrame?"
   ]
  },
  {
   "cell_type": "code",
   "execution_count": 2,
   "id": "4bf60141",
   "metadata": {
    "execution": {
     "iopub.execute_input": "2022-12-16T06:52:29.448315Z",
     "iopub.status.busy": "2022-12-16T06:52:29.447591Z",
     "iopub.status.idle": "2022-12-16T06:52:29.456682Z",
     "shell.execute_reply": "2022-12-16T06:52:29.455849Z"
    },
    "papermill": {
     "duration": 0.017174,
     "end_time": "2022-12-16T06:52:29.458391",
     "exception": false,
     "start_time": "2022-12-16T06:52:29.441217",
     "status": "completed"
    },
    "tags": []
   },
   "outputs": [
    {
     "data": {
      "application/javascript": [
       "parent.postMessage({\"jupyterEvent\": \"custom.exercise_interaction\", \"data\": {\"outcomeType\": 1, \"valueTowardsCompletion\": 0.14285714285714285, \"interactionType\": 1, \"questionType\": 1, \"questionId\": \"1_MedianPoints\", \"learnToolsVersion\": \"0.3.4\", \"failureMessage\": \"\", \"exceptionClass\": \"\", \"trace\": \"\"}}, \"*\")"
      ],
      "text/plain": [
       "<IPython.core.display.Javascript object>"
      ]
     },
     "metadata": {},
     "output_type": "display_data"
    },
    {
     "data": {
      "text/markdown": [
       "<span style=\"color:#33cc33\">Correct</span>"
      ],
      "text/plain": [
       "Correct"
      ]
     },
     "metadata": {},
     "output_type": "display_data"
    }
   ],
   "source": [
    "median_points = reviews['points'].median()\n",
    "\n",
    "\n",
    "# Check your answer\n",
    "q1.check()"
   ]
  },
  {
   "cell_type": "code",
   "execution_count": 3,
   "id": "aa8e924d",
   "metadata": {
    "execution": {
     "iopub.execute_input": "2022-12-16T06:52:29.471575Z",
     "iopub.status.busy": "2022-12-16T06:52:29.471196Z",
     "iopub.status.idle": "2022-12-16T06:52:29.475224Z",
     "shell.execute_reply": "2022-12-16T06:52:29.474189Z"
    },
    "papermill": {
     "duration": 0.01256,
     "end_time": "2022-12-16T06:52:29.477102",
     "exception": false,
     "start_time": "2022-12-16T06:52:29.464542",
     "status": "completed"
    },
    "tags": []
   },
   "outputs": [],
   "source": [
    "#q1.hint()\n",
    "#q1.solution()"
   ]
  },
  {
   "cell_type": "code",
   "execution_count": 4,
   "id": "8ea1572f",
   "metadata": {
    "execution": {
     "iopub.execute_input": "2022-12-16T06:52:29.490918Z",
     "iopub.status.busy": "2022-12-16T06:52:29.490338Z",
     "iopub.status.idle": "2022-12-16T06:52:29.497027Z",
     "shell.execute_reply": "2022-12-16T06:52:29.496142Z"
    },
    "papermill": {
     "duration": 0.01591,
     "end_time": "2022-12-16T06:52:29.498835",
     "exception": false,
     "start_time": "2022-12-16T06:52:29.482925",
     "status": "completed"
    },
    "tags": []
   },
   "outputs": [
    {
     "data": {
      "text/plain": [
       "0    87\n",
       "1    87\n",
       "2    87\n",
       "3    87\n",
       "4    87\n",
       "Name: points, dtype: int64"
      ]
     },
     "execution_count": 4,
     "metadata": {},
     "output_type": "execute_result"
    }
   ],
   "source": [
    "median_points = reviews['points']\n",
    "median_points.head()"
   ]
  },
  {
   "cell_type": "markdown",
   "id": "ada820c2",
   "metadata": {
    "papermill": {
     "duration": 0.005288,
     "end_time": "2022-12-16T06:52:29.509765",
     "exception": false,
     "start_time": "2022-12-16T06:52:29.504477",
     "status": "completed"
    },
    "tags": []
   },
   "source": [
    "## 2. \n",
    "What countries are represented in the dataset? (Your answer should not include any duplicates.)"
   ]
  },
  {
   "cell_type": "code",
   "execution_count": 5,
   "id": "8f473d8a",
   "metadata": {
    "execution": {
     "iopub.execute_input": "2022-12-16T06:52:29.522062Z",
     "iopub.status.busy": "2022-12-16T06:52:29.521771Z",
     "iopub.status.idle": "2022-12-16T06:52:29.535011Z",
     "shell.execute_reply": "2022-12-16T06:52:29.534104Z"
    },
    "papermill": {
     "duration": 0.021997,
     "end_time": "2022-12-16T06:52:29.537274",
     "exception": false,
     "start_time": "2022-12-16T06:52:29.515277",
     "status": "completed"
    },
    "tags": []
   },
   "outputs": [
    {
     "data": {
      "application/javascript": [
       "parent.postMessage({\"jupyterEvent\": \"custom.exercise_interaction\", \"data\": {\"outcomeType\": 1, \"valueTowardsCompletion\": 0.14285714285714285, \"interactionType\": 1, \"questionType\": 2, \"questionId\": \"2_UniqueCountries\", \"learnToolsVersion\": \"0.3.4\", \"failureMessage\": \"\", \"exceptionClass\": \"\", \"trace\": \"\"}}, \"*\")"
      ],
      "text/plain": [
       "<IPython.core.display.Javascript object>"
      ]
     },
     "metadata": {},
     "output_type": "display_data"
    },
    {
     "data": {
      "text/markdown": [
       "<span style=\"color:#33cc33\">Correct</span>"
      ],
      "text/plain": [
       "Correct"
      ]
     },
     "metadata": {},
     "output_type": "display_data"
    }
   ],
   "source": [
    "countries = (reviews['country']).unique()\n",
    "\n",
    "# Check your answer\n",
    "q2.check()"
   ]
  },
  {
   "cell_type": "code",
   "execution_count": 6,
   "id": "3f7f455a",
   "metadata": {
    "execution": {
     "iopub.execute_input": "2022-12-16T06:52:29.551014Z",
     "iopub.status.busy": "2022-12-16T06:52:29.550677Z",
     "iopub.status.idle": "2022-12-16T06:52:29.554574Z",
     "shell.execute_reply": "2022-12-16T06:52:29.553739Z"
    },
    "papermill": {
     "duration": 0.012561,
     "end_time": "2022-12-16T06:52:29.556220",
     "exception": false,
     "start_time": "2022-12-16T06:52:29.543659",
     "status": "completed"
    },
    "tags": []
   },
   "outputs": [],
   "source": [
    "#q2.hint()\n",
    "#q2.solution()"
   ]
  },
  {
   "cell_type": "markdown",
   "id": "c7f8cab0",
   "metadata": {
    "papermill": {
     "duration": 0.005749,
     "end_time": "2022-12-16T06:52:29.568473",
     "exception": false,
     "start_time": "2022-12-16T06:52:29.562724",
     "status": "completed"
    },
    "tags": []
   },
   "source": [
    "## 3.\n",
    "How often does each country appear in the dataset? Create a Series `reviews_per_country` mapping countries to the count of reviews of wines from that country."
   ]
  },
  {
   "cell_type": "code",
   "execution_count": 7,
   "id": "20a4c038",
   "metadata": {
    "execution": {
     "iopub.execute_input": "2022-12-16T06:52:29.581692Z",
     "iopub.status.busy": "2022-12-16T06:52:29.581350Z",
     "iopub.status.idle": "2022-12-16T06:52:29.597833Z",
     "shell.execute_reply": "2022-12-16T06:52:29.597220Z"
    },
    "papermill": {
     "duration": 0.025084,
     "end_time": "2022-12-16T06:52:29.599461",
     "exception": false,
     "start_time": "2022-12-16T06:52:29.574377",
     "status": "completed"
    },
    "tags": []
   },
   "outputs": [
    {
     "data": {
      "application/javascript": [
       "parent.postMessage({\"jupyterEvent\": \"custom.exercise_interaction\", \"data\": {\"outcomeType\": 1, \"valueTowardsCompletion\": 0.14285714285714285, \"interactionType\": 1, \"questionType\": 1, \"questionId\": \"3_ReviewsPerCountry\", \"learnToolsVersion\": \"0.3.4\", \"failureMessage\": \"\", \"exceptionClass\": \"\", \"trace\": \"\"}}, \"*\")"
      ],
      "text/plain": [
       "<IPython.core.display.Javascript object>"
      ]
     },
     "metadata": {},
     "output_type": "display_data"
    },
    {
     "data": {
      "text/markdown": [
       "<span style=\"color:#33cc33\">Correct</span>"
      ],
      "text/plain": [
       "Correct"
      ]
     },
     "metadata": {},
     "output_type": "display_data"
    },
    {
     "data": {
      "text/plain": [
       "US        54504\n",
       "France    22093\n",
       "          ...  \n",
       "China         1\n",
       "Egypt         1\n",
       "Name: country, Length: 43, dtype: int64"
      ]
     },
     "execution_count": 7,
     "metadata": {},
     "output_type": "execute_result"
    }
   ],
   "source": [
    "reviews_per_country = reviews.country.value_counts()\n",
    "\n",
    "# Check your answer\n",
    "q3.check()\n",
    "reviews_per_country"
   ]
  },
  {
   "cell_type": "code",
   "execution_count": 8,
   "id": "c4dcb4ee",
   "metadata": {
    "execution": {
     "iopub.execute_input": "2022-12-16T06:52:29.613865Z",
     "iopub.status.busy": "2022-12-16T06:52:29.613567Z",
     "iopub.status.idle": "2022-12-16T06:52:29.616510Z",
     "shell.execute_reply": "2022-12-16T06:52:29.615887Z"
    },
    "papermill": {
     "duration": 0.012224,
     "end_time": "2022-12-16T06:52:29.618272",
     "exception": false,
     "start_time": "2022-12-16T06:52:29.606048",
     "status": "completed"
    },
    "tags": []
   },
   "outputs": [],
   "source": [
    "#q3.hint()\n",
    "#q3.solution()"
   ]
  },
  {
   "cell_type": "markdown",
   "id": "f80a4fa8",
   "metadata": {
    "papermill": {
     "duration": 0.006065,
     "end_time": "2022-12-16T06:52:29.630790",
     "exception": false,
     "start_time": "2022-12-16T06:52:29.624725",
     "status": "completed"
    },
    "tags": []
   },
   "source": [
    "## 4.\n",
    "Create variable `centered_price` containing a version of the `price` column with the mean price subtracted.\n",
    "\n",
    "(Note: this 'centering' transformation is a common preprocessing step before applying various machine learning algorithms.) "
   ]
  },
  {
   "cell_type": "code",
   "execution_count": 9,
   "id": "6a66b0d4",
   "metadata": {
    "execution": {
     "iopub.execute_input": "2022-12-16T06:52:29.644871Z",
     "iopub.status.busy": "2022-12-16T06:52:29.644528Z",
     "iopub.status.idle": "2022-12-16T06:52:29.653126Z",
     "shell.execute_reply": "2022-12-16T06:52:29.652339Z"
    },
    "papermill": {
     "duration": 0.017669,
     "end_time": "2022-12-16T06:52:29.654745",
     "exception": false,
     "start_time": "2022-12-16T06:52:29.637076",
     "status": "completed"
    },
    "tags": []
   },
   "outputs": [
    {
     "data": {
      "application/javascript": [
       "parent.postMessage({\"jupyterEvent\": \"custom.exercise_interaction\", \"data\": {\"outcomeType\": 1, \"valueTowardsCompletion\": 0.14285714285714285, \"interactionType\": 1, \"questionType\": 1, \"questionId\": \"4_CenteredPrice\", \"learnToolsVersion\": \"0.3.4\", \"failureMessage\": \"\", \"exceptionClass\": \"\", \"trace\": \"\"}}, \"*\")"
      ],
      "text/plain": [
       "<IPython.core.display.Javascript object>"
      ]
     },
     "metadata": {},
     "output_type": "display_data"
    },
    {
     "data": {
      "text/markdown": [
       "<span style=\"color:#33cc33\">Correct</span>"
      ],
      "text/plain": [
       "Correct"
      ]
     },
     "metadata": {},
     "output_type": "display_data"
    }
   ],
   "source": [
    "centered_price = reviews['price'] - reviews['price'].mean()\n",
    "\n",
    "\n",
    "# Check your answer\n",
    "q4.check()"
   ]
  },
  {
   "cell_type": "code",
   "execution_count": 10,
   "id": "3e78e99b",
   "metadata": {
    "execution": {
     "iopub.execute_input": "2022-12-16T06:52:29.670489Z",
     "iopub.status.busy": "2022-12-16T06:52:29.669992Z",
     "iopub.status.idle": "2022-12-16T06:52:29.674036Z",
     "shell.execute_reply": "2022-12-16T06:52:29.673163Z"
    },
    "papermill": {
     "duration": 0.014291,
     "end_time": "2022-12-16T06:52:29.675903",
     "exception": false,
     "start_time": "2022-12-16T06:52:29.661612",
     "status": "completed"
    },
    "tags": []
   },
   "outputs": [],
   "source": [
    "#q4.hint()\n",
    "#q4.solution()"
   ]
  },
  {
   "cell_type": "markdown",
   "id": "23769aab",
   "metadata": {
    "papermill": {
     "duration": 0.006361,
     "end_time": "2022-12-16T06:52:29.689362",
     "exception": false,
     "start_time": "2022-12-16T06:52:29.683001",
     "status": "completed"
    },
    "tags": []
   },
   "source": [
    "## 5.\n",
    "I'm an economical wine buyer. Which wine is the \"best bargain\"? Create a variable `bargain_wine` with the title of the wine with the highest points-to-price ratio in the dataset."
   ]
  },
  {
   "cell_type": "code",
   "execution_count": 11,
   "id": "689329e2",
   "metadata": {
    "execution": {
     "iopub.execute_input": "2022-12-16T06:52:29.704037Z",
     "iopub.status.busy": "2022-12-16T06:52:29.703679Z",
     "iopub.status.idle": "2022-12-16T06:52:29.715221Z",
     "shell.execute_reply": "2022-12-16T06:52:29.714350Z"
    },
    "papermill": {
     "duration": 0.020904,
     "end_time": "2022-12-16T06:52:29.716889",
     "exception": false,
     "start_time": "2022-12-16T06:52:29.695985",
     "status": "completed"
    },
    "tags": []
   },
   "outputs": [
    {
     "data": {
      "application/javascript": [
       "parent.postMessage({\"jupyterEvent\": \"custom.exercise_interaction\", \"data\": {\"outcomeType\": 1, \"valueTowardsCompletion\": 0.14285714285714285, \"interactionType\": 1, \"questionType\": 2, \"questionId\": \"5_BargainWine\", \"learnToolsVersion\": \"0.3.4\", \"failureMessage\": \"\", \"exceptionClass\": \"\", \"trace\": \"\"}}, \"*\")"
      ],
      "text/plain": [
       "<IPython.core.display.Javascript object>"
      ]
     },
     "metadata": {},
     "output_type": "display_data"
    },
    {
     "data": {
      "text/markdown": [
       "<span style=\"color:#33cc33\">Correct</span>"
      ],
      "text/plain": [
       "Correct"
      ]
     },
     "metadata": {},
     "output_type": "display_data"
    }
   ],
   "source": [
    "bargain_idx = (reviews.points / reviews.price).idxmax()\n",
    "bargain_wine = reviews.loc[bargain_idx, 'title']\n",
    "\n",
    "# Check your answer\n",
    "q5.check()"
   ]
  },
  {
   "cell_type": "code",
   "execution_count": 12,
   "id": "1d8eab96",
   "metadata": {
    "execution": {
     "iopub.execute_input": "2022-12-16T06:52:29.732105Z",
     "iopub.status.busy": "2022-12-16T06:52:29.731781Z",
     "iopub.status.idle": "2022-12-16T06:52:29.735419Z",
     "shell.execute_reply": "2022-12-16T06:52:29.734527Z"
    },
    "papermill": {
     "duration": 0.013173,
     "end_time": "2022-12-16T06:52:29.737097",
     "exception": false,
     "start_time": "2022-12-16T06:52:29.723924",
     "status": "completed"
    },
    "tags": []
   },
   "outputs": [],
   "source": [
    "#q5.hint()\n",
    "#q5.solution()"
   ]
  },
  {
   "cell_type": "markdown",
   "id": "b67c8c2b",
   "metadata": {
    "papermill": {
     "duration": 0.006745,
     "end_time": "2022-12-16T06:52:29.751108",
     "exception": false,
     "start_time": "2022-12-16T06:52:29.744363",
     "status": "completed"
    },
    "tags": []
   },
   "source": [
    "## 6.\n",
    "There are only so many words you can use when describing a bottle of wine. Is a wine more likely to be \"tropical\" or \"fruity\"? Create a Series `descriptor_counts` counting how many times each of these two words appears in the `description` column in the dataset. (For simplicity, let's ignore the capitalized versions of these words.)"
   ]
  },
  {
   "cell_type": "code",
   "execution_count": 13,
   "id": "1bb7ff1e",
   "metadata": {
    "execution": {
     "iopub.execute_input": "2022-12-16T06:52:29.766046Z",
     "iopub.status.busy": "2022-12-16T06:52:29.765701Z",
     "iopub.status.idle": "2022-12-16T06:52:29.871776Z",
     "shell.execute_reply": "2022-12-16T06:52:29.870922Z"
    },
    "papermill": {
     "duration": 0.115666,
     "end_time": "2022-12-16T06:52:29.873438",
     "exception": false,
     "start_time": "2022-12-16T06:52:29.757772",
     "status": "completed"
    },
    "tags": []
   },
   "outputs": [
    {
     "data": {
      "application/javascript": [
       "parent.postMessage({\"jupyterEvent\": \"custom.exercise_interaction\", \"data\": {\"outcomeType\": 1, \"valueTowardsCompletion\": 0.14285714285714285, \"interactionType\": 1, \"questionType\": 1, \"questionId\": \"6_DescriptorCounts\", \"learnToolsVersion\": \"0.3.4\", \"failureMessage\": \"\", \"exceptionClass\": \"\", \"trace\": \"\"}}, \"*\")"
      ],
      "text/plain": [
       "<IPython.core.display.Javascript object>"
      ]
     },
     "metadata": {},
     "output_type": "display_data"
    },
    {
     "data": {
      "text/markdown": [
       "<span style=\"color:#33cc33\">Correct</span>"
      ],
      "text/plain": [
       "Correct"
      ]
     },
     "metadata": {},
     "output_type": "display_data"
    }
   ],
   "source": [
    "tro = reviews.description.map(lambda desc:\"tropical\"in desc).sum()\n",
    "fru = reviews.description.map(lambda desc : \"fruity\"in desc).sum()\n",
    "descriptor_counts = pd.Series([tro,fru], index = [\"tropical\", \"fruity\"])\n",
    "# Check your answer\n",
    "q6.check()"
   ]
  },
  {
   "cell_type": "code",
   "execution_count": 14,
   "id": "f5f343d7",
   "metadata": {
    "execution": {
     "iopub.execute_input": "2022-12-16T06:52:29.888857Z",
     "iopub.status.busy": "2022-12-16T06:52:29.888562Z",
     "iopub.status.idle": "2022-12-16T06:52:29.892025Z",
     "shell.execute_reply": "2022-12-16T06:52:29.891241Z"
    },
    "papermill": {
     "duration": 0.013027,
     "end_time": "2022-12-16T06:52:29.893692",
     "exception": false,
     "start_time": "2022-12-16T06:52:29.880665",
     "status": "completed"
    },
    "tags": []
   },
   "outputs": [],
   "source": [
    "#q6.hint()\n",
    "#q6.solution()"
   ]
  },
  {
   "cell_type": "markdown",
   "id": "f66dcf96",
   "metadata": {
    "papermill": {
     "duration": 0.006854,
     "end_time": "2022-12-16T06:52:29.907779",
     "exception": false,
     "start_time": "2022-12-16T06:52:29.900925",
     "status": "completed"
    },
    "tags": []
   },
   "source": [
    "## 7.\n",
    "We'd like to host these wine reviews on our website, but a rating system ranging from 80 to 100 points is too hard to understand - we'd like to translate them into simple star ratings. A score of 95 or higher counts as 3 stars, a score of at least 85 but less than 95 is 2 stars. Any other score is 1 star.\n",
    "\n",
    "Also, the Canadian Vintners Association bought a lot of ads on the site, so any wines from Canada should automatically get 3 stars, regardless of points.\n",
    "\n",
    "Create a series `star_ratings` with the number of stars corresponding to each review in the dataset."
   ]
  },
  {
   "cell_type": "code",
   "execution_count": 15,
   "id": "fc676ee0",
   "metadata": {
    "execution": {
     "iopub.execute_input": "2022-12-16T06:52:29.922826Z",
     "iopub.status.busy": "2022-12-16T06:52:29.922523Z",
     "iopub.status.idle": "2022-12-16T06:52:33.362790Z",
     "shell.execute_reply": "2022-12-16T06:52:33.361844Z"
    },
    "papermill": {
     "duration": 3.449996,
     "end_time": "2022-12-16T06:52:33.364648",
     "exception": false,
     "start_time": "2022-12-16T06:52:29.914652",
     "status": "completed"
    },
    "tags": []
   },
   "outputs": [
    {
     "data": {
      "application/javascript": [
       "parent.postMessage({\"jupyterEvent\": \"custom.exercise_interaction\", \"data\": {\"outcomeType\": 1, \"valueTowardsCompletion\": 0.14285714285714285, \"interactionType\": 1, \"questionType\": 1, \"questionId\": \"7_StarRatings\", \"learnToolsVersion\": \"0.3.4\", \"failureMessage\": \"\", \"exceptionClass\": \"\", \"trace\": \"\"}}, \"*\")"
      ],
      "text/plain": [
       "<IPython.core.display.Javascript object>"
      ]
     },
     "metadata": {},
     "output_type": "display_data"
    },
    {
     "data": {
      "text/markdown": [
       "<span style=\"color:#33cc33\">Correct</span>"
      ],
      "text/plain": [
       "Correct"
      ]
     },
     "metadata": {},
     "output_type": "display_data"
    }
   ],
   "source": [
    "def stars(row):\n",
    "    if row.country == 'Canada':\n",
    "        return 3\n",
    "    elif row.points >= 95:\n",
    "        return 3\n",
    "    elif row.points >= 85:\n",
    "        return 2\n",
    "    else:\n",
    "        return 1\n",
    "star_ratings = reviews.apply(stars, axis='columns')\n",
    "\n",
    "# Check your answer\n",
    "q7.check()"
   ]
  },
  {
   "cell_type": "code",
   "execution_count": 16,
   "id": "17279054",
   "metadata": {
    "execution": {
     "iopub.execute_input": "2022-12-16T06:52:33.380974Z",
     "iopub.status.busy": "2022-12-16T06:52:33.380610Z",
     "iopub.status.idle": "2022-12-16T06:52:33.384514Z",
     "shell.execute_reply": "2022-12-16T06:52:33.383665Z"
    },
    "papermill": {
     "duration": 0.014081,
     "end_time": "2022-12-16T06:52:33.386326",
     "exception": false,
     "start_time": "2022-12-16T06:52:33.372245",
     "status": "completed"
    },
    "tags": []
   },
   "outputs": [],
   "source": [
    "#q7.hint()\n",
    "#q7.solution()"
   ]
  },
  {
   "cell_type": "markdown",
   "id": "bedb3850",
   "metadata": {
    "papermill": {
     "duration": 0.007003,
     "end_time": "2022-12-16T06:52:33.400737",
     "exception": false,
     "start_time": "2022-12-16T06:52:33.393734",
     "status": "completed"
    },
    "tags": []
   },
   "source": [
    "# Keep going\n",
    "Continue to **[grouping and sorting](https://www.kaggle.com/residentmario/grouping-and-sorting)**."
   ]
  },
  {
   "cell_type": "markdown",
   "id": "b8016c9c",
   "metadata": {
    "papermill": {
     "duration": 0.006927,
     "end_time": "2022-12-16T06:52:33.414916",
     "exception": false,
     "start_time": "2022-12-16T06:52:33.407989",
     "status": "completed"
    },
    "tags": []
   },
   "source": [
    "---\n",
    "\n",
    "\n",
    "\n",
    "\n",
    "*Have questions or comments? Visit the [course discussion forum](https://www.kaggle.com/learn/pandas/discussion) to chat with other learners.*"
   ]
  }
 ],
 "metadata": {
  "kernelspec": {
   "display_name": "Python 3",
   "language": "python",
   "name": "python3"
  },
  "language_info": {
   "codemirror_mode": {
    "name": "ipython",
    "version": 3
   },
   "file_extension": ".py",
   "mimetype": "text/x-python",
   "name": "python",
   "nbconvert_exporter": "python",
   "pygments_lexer": "ipython3",
   "version": "3.7.12"
  },
  "papermill": {
   "default_parameters": {},
   "duration": 17.224255,
   "end_time": "2022-12-16T06:52:34.040893",
   "environment_variables": {},
   "exception": null,
   "input_path": "__notebook__.ipynb",
   "output_path": "__notebook__.ipynb",
   "parameters": {},
   "start_time": "2022-12-16T06:52:16.816638",
   "version": "2.3.4"
  }
 },
 "nbformat": 4,
 "nbformat_minor": 5
}
