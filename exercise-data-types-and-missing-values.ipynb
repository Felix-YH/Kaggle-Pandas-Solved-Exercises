{
 "cells": [
  {
   "cell_type": "markdown",
   "id": "abb524b5",
   "metadata": {
    "papermill": {
     "duration": 0.006016,
     "end_time": "2022-12-16T06:57:12.763915",
     "exception": false,
     "start_time": "2022-12-16T06:57:12.757899",
     "status": "completed"
    },
    "tags": []
   },
   "source": [
    "**This notebook is an exercise in the [Pandas](https://www.kaggle.com/learn/pandas) course.  You can reference the tutorial at [this link](https://www.kaggle.com/residentmario/data-types-and-missing-values).**\n",
    "\n",
    "---\n"
   ]
  },
  {
   "cell_type": "markdown",
   "id": "ac9c74d2",
   "metadata": {
    "papermill": {
     "duration": 0.003995,
     "end_time": "2022-12-16T06:57:12.772420",
     "exception": false,
     "start_time": "2022-12-16T06:57:12.768425",
     "status": "completed"
    },
    "tags": []
   },
   "source": [
    "# Introduction\n",
    "\n",
    "Run the following cell to load your data and some utility functions."
   ]
  },
  {
   "cell_type": "code",
   "execution_count": 1,
   "id": "3473e453",
   "metadata": {
    "execution": {
     "iopub.execute_input": "2022-12-16T06:57:12.783990Z",
     "iopub.status.busy": "2022-12-16T06:57:12.783000Z",
     "iopub.status.idle": "2022-12-16T06:57:15.747895Z",
     "shell.execute_reply": "2022-12-16T06:57:15.745213Z"
    },
    "papermill": {
     "duration": 2.973952,
     "end_time": "2022-12-16T06:57:15.750704",
     "exception": false,
     "start_time": "2022-12-16T06:57:12.776752",
     "status": "completed"
    },
    "tags": []
   },
   "outputs": [
    {
     "name": "stdout",
     "output_type": "stream",
     "text": [
      "Setup complete.\n"
     ]
    }
   ],
   "source": [
    "import pandas as pd\n",
    "\n",
    "reviews = pd.read_csv(\"../input/wine-reviews/winemag-data-130k-v2.csv\", index_col=0)\n",
    "\n",
    "from learntools.core import binder; binder.bind(globals())\n",
    "from learntools.pandas.data_types_and_missing_data import *\n",
    "print(\"Setup complete.\")"
   ]
  },
  {
   "cell_type": "markdown",
   "id": "99effe2f",
   "metadata": {
    "papermill": {
     "duration": 0.004122,
     "end_time": "2022-12-16T06:57:15.759412",
     "exception": false,
     "start_time": "2022-12-16T06:57:15.755290",
     "status": "completed"
    },
    "tags": []
   },
   "source": [
    "# Exercises"
   ]
  },
  {
   "cell_type": "markdown",
   "id": "ff16f5fe",
   "metadata": {
    "papermill": {
     "duration": 0.004026,
     "end_time": "2022-12-16T06:57:15.768026",
     "exception": false,
     "start_time": "2022-12-16T06:57:15.764000",
     "status": "completed"
    },
    "tags": []
   },
   "source": [
    "## 1. \n",
    "What is the data type of the `points` column in the dataset?"
   ]
  },
  {
   "cell_type": "code",
   "execution_count": 2,
   "id": "193786a4",
   "metadata": {
    "execution": {
     "iopub.execute_input": "2022-12-16T06:57:15.779302Z",
     "iopub.status.busy": "2022-12-16T06:57:15.777960Z",
     "iopub.status.idle": "2022-12-16T06:57:15.792893Z",
     "shell.execute_reply": "2022-12-16T06:57:15.791470Z"
    },
    "papermill": {
     "duration": 0.023115,
     "end_time": "2022-12-16T06:57:15.795428",
     "exception": false,
     "start_time": "2022-12-16T06:57:15.772313",
     "status": "completed"
    },
    "tags": []
   },
   "outputs": [
    {
     "data": {
      "application/javascript": [
       "parent.postMessage({\"jupyterEvent\": \"custom.exercise_interaction\", \"data\": {\"outcomeType\": 1, \"valueTowardsCompletion\": 0.25, \"interactionType\": 1, \"questionType\": 1, \"questionId\": \"1_PointsDtype\", \"learnToolsVersion\": \"0.3.4\", \"failureMessage\": \"\", \"exceptionClass\": \"\", \"trace\": \"\"}}, \"*\")"
      ],
      "text/plain": [
       "<IPython.core.display.Javascript object>"
      ]
     },
     "metadata": {},
     "output_type": "display_data"
    },
    {
     "data": {
      "text/markdown": [
       "<span style=\"color:#33cc33\">Correct</span>"
      ],
      "text/plain": [
       "Correct"
      ]
     },
     "metadata": {},
     "output_type": "display_data"
    }
   ],
   "source": [
    "# Your code here\n",
    "dtype = reviews.points.dtype\n",
    "\n",
    "# Check your answer\n",
    "q1.check()"
   ]
  },
  {
   "cell_type": "code",
   "execution_count": 3,
   "id": "f6d9e363",
   "metadata": {
    "execution": {
     "iopub.execute_input": "2022-12-16T06:57:15.806893Z",
     "iopub.status.busy": "2022-12-16T06:57:15.806447Z",
     "iopub.status.idle": "2022-12-16T06:57:15.810840Z",
     "shell.execute_reply": "2022-12-16T06:57:15.809907Z"
    },
    "papermill": {
     "duration": 0.01276,
     "end_time": "2022-12-16T06:57:15.813069",
     "exception": false,
     "start_time": "2022-12-16T06:57:15.800309",
     "status": "completed"
    },
    "tags": []
   },
   "outputs": [],
   "source": [
    "#q1.hint()\n",
    "#q1.solution()"
   ]
  },
  {
   "cell_type": "markdown",
   "id": "3311f061",
   "metadata": {
    "papermill": {
     "duration": 0.004406,
     "end_time": "2022-12-16T06:57:15.822310",
     "exception": false,
     "start_time": "2022-12-16T06:57:15.817904",
     "status": "completed"
    },
    "tags": []
   },
   "source": [
    "## 2. \n",
    "Create a Series from entries in the `points` column, but convert the entries to strings. Hint: strings are `str` in native Python."
   ]
  },
  {
   "cell_type": "code",
   "execution_count": 4,
   "id": "61324494",
   "metadata": {
    "execution": {
     "iopub.execute_input": "2022-12-16T06:57:15.833899Z",
     "iopub.status.busy": "2022-12-16T06:57:15.833131Z",
     "iopub.status.idle": "2022-12-16T06:57:15.916222Z",
     "shell.execute_reply": "2022-12-16T06:57:15.915009Z"
    },
    "papermill": {
     "duration": 0.091913,
     "end_time": "2022-12-16T06:57:15.919024",
     "exception": false,
     "start_time": "2022-12-16T06:57:15.827111",
     "status": "completed"
    },
    "tags": []
   },
   "outputs": [
    {
     "data": {
      "application/javascript": [
       "parent.postMessage({\"jupyterEvent\": \"custom.exercise_interaction\", \"data\": {\"outcomeType\": 1, \"valueTowardsCompletion\": 0.25, \"interactionType\": 1, \"questionType\": 1, \"questionId\": \"2_StrPoints\", \"learnToolsVersion\": \"0.3.4\", \"failureMessage\": \"\", \"exceptionClass\": \"\", \"trace\": \"\"}}, \"*\")"
      ],
      "text/plain": [
       "<IPython.core.display.Javascript object>"
      ]
     },
     "metadata": {},
     "output_type": "display_data"
    },
    {
     "data": {
      "text/markdown": [
       "<span style=\"color:#33cc33\">Correct</span>"
      ],
      "text/plain": [
       "Correct"
      ]
     },
     "metadata": {},
     "output_type": "display_data"
    }
   ],
   "source": [
    "point_strings = reviews.points.astype(str)\n",
    "\n",
    "# Check your answer\n",
    "q2.check()"
   ]
  },
  {
   "cell_type": "code",
   "execution_count": 5,
   "id": "d71653b8",
   "metadata": {
    "execution": {
     "iopub.execute_input": "2022-12-16T06:57:15.930708Z",
     "iopub.status.busy": "2022-12-16T06:57:15.930289Z",
     "iopub.status.idle": "2022-12-16T06:57:15.935294Z",
     "shell.execute_reply": "2022-12-16T06:57:15.933931Z"
    },
    "papermill": {
     "duration": 0.01462,
     "end_time": "2022-12-16T06:57:15.938636",
     "exception": false,
     "start_time": "2022-12-16T06:57:15.924016",
     "status": "completed"
    },
    "tags": []
   },
   "outputs": [],
   "source": [
    "#q2.hint()\n",
    "#q2.solution()"
   ]
  },
  {
   "cell_type": "markdown",
   "id": "ed7e621e",
   "metadata": {
    "papermill": {
     "duration": 0.004758,
     "end_time": "2022-12-16T06:57:15.948592",
     "exception": false,
     "start_time": "2022-12-16T06:57:15.943834",
     "status": "completed"
    },
    "tags": []
   },
   "source": [
    "## 3.\n",
    "Sometimes the price column is null. How many reviews in the dataset are missing a price?"
   ]
  },
  {
   "cell_type": "code",
   "execution_count": 6,
   "id": "b89a3561",
   "metadata": {
    "execution": {
     "iopub.execute_input": "2022-12-16T06:57:15.960545Z",
     "iopub.status.busy": "2022-12-16T06:57:15.960162Z",
     "iopub.status.idle": "2022-12-16T06:57:15.970737Z",
     "shell.execute_reply": "2022-12-16T06:57:15.969440Z"
    },
    "papermill": {
     "duration": 0.019568,
     "end_time": "2022-12-16T06:57:15.973300",
     "exception": false,
     "start_time": "2022-12-16T06:57:15.953732",
     "status": "completed"
    },
    "tags": []
   },
   "outputs": [
    {
     "data": {
      "application/javascript": [
       "parent.postMessage({\"jupyterEvent\": \"custom.exercise_interaction\", \"data\": {\"outcomeType\": 1, \"valueTowardsCompletion\": 0.25, \"interactionType\": 1, \"questionType\": 1, \"questionId\": \"3_CountMissingPrices\", \"learnToolsVersion\": \"0.3.4\", \"failureMessage\": \"\", \"exceptionClass\": \"\", \"trace\": \"\"}}, \"*\")"
      ],
      "text/plain": [
       "<IPython.core.display.Javascript object>"
      ]
     },
     "metadata": {},
     "output_type": "display_data"
    },
    {
     "data": {
      "text/markdown": [
       "<span style=\"color:#33cc33\">Correct</span>"
      ],
      "text/plain": [
       "Correct"
      ]
     },
     "metadata": {},
     "output_type": "display_data"
    }
   ],
   "source": [
    "n_missing_prices = reviews.price.isnull().sum()\n",
    "\n",
    "# Check your answer\n",
    "q3.check()"
   ]
  },
  {
   "cell_type": "code",
   "execution_count": 7,
   "id": "edb6a5a6",
   "metadata": {
    "execution": {
     "iopub.execute_input": "2022-12-16T06:57:15.985597Z",
     "iopub.status.busy": "2022-12-16T06:57:15.985223Z",
     "iopub.status.idle": "2022-12-16T06:57:15.989709Z",
     "shell.execute_reply": "2022-12-16T06:57:15.988520Z"
    },
    "papermill": {
     "duration": 0.013328,
     "end_time": "2022-12-16T06:57:15.991946",
     "exception": false,
     "start_time": "2022-12-16T06:57:15.978618",
     "status": "completed"
    },
    "tags": []
   },
   "outputs": [],
   "source": [
    "#q3.hint()\n",
    "#q3.solution()"
   ]
  },
  {
   "cell_type": "markdown",
   "id": "94105559",
   "metadata": {
    "papermill": {
     "duration": 0.004873,
     "end_time": "2022-12-16T06:57:16.002146",
     "exception": false,
     "start_time": "2022-12-16T06:57:15.997273",
     "status": "completed"
    },
    "tags": []
   },
   "source": [
    "## 4.\n",
    "What are the most common wine-producing regions? Create a Series counting the number of times each value occurs in the `region_1` field. This field is often missing data, so replace missing values with `Unknown`. Sort in descending order.  Your output should look something like this:\n",
    "\n",
    "```\n",
    "Unknown                    21247\n",
    "Napa Valley                 4480\n",
    "                           ...  \n",
    "Bardolino Superiore            1\n",
    "Primitivo del Tarantino        1\n",
    "Name: region_1, Length: 1230, dtype: int64\n",
    "```"
   ]
  },
  {
   "cell_type": "code",
   "execution_count": 8,
   "id": "d9a0635a",
   "metadata": {
    "execution": {
     "iopub.execute_input": "2022-12-16T06:57:16.016788Z",
     "iopub.status.busy": "2022-12-16T06:57:16.015367Z",
     "iopub.status.idle": "2022-12-16T06:57:16.068845Z",
     "shell.execute_reply": "2022-12-16T06:57:16.067526Z"
    },
    "papermill": {
     "duration": 0.064738,
     "end_time": "2022-12-16T06:57:16.072007",
     "exception": false,
     "start_time": "2022-12-16T06:57:16.007269",
     "status": "completed"
    },
    "tags": []
   },
   "outputs": [
    {
     "data": {
      "application/javascript": [
       "parent.postMessage({\"jupyterEvent\": \"custom.exercise_interaction\", \"data\": {\"outcomeType\": 1, \"valueTowardsCompletion\": 0.25, \"interactionType\": 1, \"questionType\": 2, \"questionId\": \"4_ReviewsPerRegion\", \"learnToolsVersion\": \"0.3.4\", \"failureMessage\": \"\", \"exceptionClass\": \"\", \"trace\": \"\"}}, \"*\")"
      ],
      "text/plain": [
       "<IPython.core.display.Javascript object>"
      ]
     },
     "metadata": {},
     "output_type": "display_data"
    },
    {
     "data": {
      "text/markdown": [
       "<span style=\"color:#33cc33\">Correct</span>"
      ],
      "text/plain": [
       "Correct"
      ]
     },
     "metadata": {},
     "output_type": "display_data"
    }
   ],
   "source": [
    "\n",
    "reviews_per_region = reviews.region_1.fillna('Unknown').value_counts().sort_values(ascending=False)\n",
    "\n",
    "# Check your answer\n",
    "q4.check()"
   ]
  },
  {
   "cell_type": "code",
   "execution_count": 9,
   "id": "a48f7ca1",
   "metadata": {
    "execution": {
     "iopub.execute_input": "2022-12-16T06:57:16.086128Z",
     "iopub.status.busy": "2022-12-16T06:57:16.085648Z",
     "iopub.status.idle": "2022-12-16T06:57:16.090234Z",
     "shell.execute_reply": "2022-12-16T06:57:16.089321Z"
    },
    "papermill": {
     "duration": 0.014541,
     "end_time": "2022-12-16T06:57:16.093016",
     "exception": false,
     "start_time": "2022-12-16T06:57:16.078475",
     "status": "completed"
    },
    "tags": []
   },
   "outputs": [],
   "source": [
    "#q4.hint()\n",
    "#q4.solution()"
   ]
  },
  {
   "cell_type": "markdown",
   "id": "fb08f223",
   "metadata": {
    "papermill": {
     "duration": 0.005532,
     "end_time": "2022-12-16T06:57:16.104561",
     "exception": false,
     "start_time": "2022-12-16T06:57:16.099029",
     "status": "completed"
    },
    "tags": []
   },
   "source": [
    "# Keep going\n",
    "\n",
    "Move on to **[renaming and combining](https://www.kaggle.com/residentmario/renaming-and-combining)**."
   ]
  },
  {
   "cell_type": "markdown",
   "id": "8f0eb7b2",
   "metadata": {
    "papermill": {
     "duration": 0.006428,
     "end_time": "2022-12-16T06:57:16.118264",
     "exception": false,
     "start_time": "2022-12-16T06:57:16.111836",
     "status": "completed"
    },
    "tags": []
   },
   "source": [
    "---\n",
    "\n",
    "\n",
    "\n",
    "\n",
    "*Have questions or comments? Visit the [course discussion forum](https://www.kaggle.com/learn/pandas/discussion) to chat with other learners.*"
   ]
  }
 ],
 "metadata": {
  "kernelspec": {
   "display_name": "Python 3",
   "language": "python",
   "name": "python3"
  },
  "language_info": {
   "codemirror_mode": {
    "name": "ipython",
    "version": 3
   },
   "file_extension": ".py",
   "mimetype": "text/x-python",
   "name": "python",
   "nbconvert_exporter": "python",
   "pygments_lexer": "ipython3",
   "version": "3.7.12"
  },
  "papermill": {
   "default_parameters": {},
   "duration": 12.990354,
   "end_time": "2022-12-16T06:57:16.846620",
   "environment_variables": {},
   "exception": null,
   "input_path": "__notebook__.ipynb",
   "output_path": "__notebook__.ipynb",
   "parameters": {},
   "start_time": "2022-12-16T06:57:03.856266",
   "version": "2.3.4"
  }
 },
 "nbformat": 4,
 "nbformat_minor": 5
}
