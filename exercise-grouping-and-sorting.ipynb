{
 "cells": [
  {
   "cell_type": "markdown",
   "id": "9f9232d0",
   "metadata": {
    "papermill": {
     "duration": 0.007644,
     "end_time": "2022-12-16T06:55:43.490101",
     "exception": false,
     "start_time": "2022-12-16T06:55:43.482457",
     "status": "completed"
    },
    "tags": []
   },
   "source": [
    "**This notebook is an exercise in the [Pandas](https://www.kaggle.com/learn/pandas) course.  You can reference the tutorial at [this link](https://www.kaggle.com/residentmario/grouping-and-sorting).**\n",
    "\n",
    "---\n"
   ]
  },
  {
   "cell_type": "markdown",
   "id": "ceff0d44",
   "metadata": {
    "papermill": {
     "duration": 0.006469,
     "end_time": "2022-12-16T06:55:43.502582",
     "exception": false,
     "start_time": "2022-12-16T06:55:43.496113",
     "status": "completed"
    },
    "tags": []
   },
   "source": [
    "# Introduction\n",
    "\n",
    "In these exercises we'll apply groupwise analysis to our dataset.\n",
    "\n",
    "Run the code cell below to load the data before running the exercises."
   ]
  },
  {
   "cell_type": "code",
   "execution_count": 1,
   "id": "03773de1",
   "metadata": {
    "execution": {
     "iopub.execute_input": "2022-12-16T06:55:43.516362Z",
     "iopub.status.busy": "2022-12-16T06:55:43.515627Z",
     "iopub.status.idle": "2022-12-16T06:55:46.498316Z",
     "shell.execute_reply": "2022-12-16T06:55:46.497165Z"
    },
    "papermill": {
     "duration": 2.993301,
     "end_time": "2022-12-16T06:55:46.501685",
     "exception": false,
     "start_time": "2022-12-16T06:55:43.508384",
     "status": "completed"
    },
    "tags": []
   },
   "outputs": [
    {
     "name": "stdout",
     "output_type": "stream",
     "text": [
      "Setup complete.\n"
     ]
    }
   ],
   "source": [
    "import pandas as pd\n",
    "\n",
    "reviews = pd.read_csv(\"../input/wine-reviews/winemag-data-130k-v2.csv\", index_col=0)\n",
    "#pd.set_option(\"display.max_rows\", 5)\n",
    "\n",
    "from learntools.core import binder; binder.bind(globals())\n",
    "from learntools.pandas.grouping_and_sorting import *\n",
    "print(\"Setup complete.\")"
   ]
  },
  {
   "cell_type": "markdown",
   "id": "60ad4aa0",
   "metadata": {
    "papermill": {
     "duration": 0.005447,
     "end_time": "2022-12-16T06:55:46.514072",
     "exception": false,
     "start_time": "2022-12-16T06:55:46.508625",
     "status": "completed"
    },
    "tags": []
   },
   "source": [
    "# Exercises"
   ]
  },
  {
   "cell_type": "markdown",
   "id": "ea3e3a0b",
   "metadata": {
    "papermill": {
     "duration": 0.005335,
     "end_time": "2022-12-16T06:55:46.524995",
     "exception": false,
     "start_time": "2022-12-16T06:55:46.519660",
     "status": "completed"
    },
    "tags": []
   },
   "source": [
    "## 1.\n",
    "Who are the most common wine reviewers in the dataset? Create a `Series` whose index is the `taster_twitter_handle` category from the dataset, and whose values count how many reviews each person wrote."
   ]
  },
  {
   "cell_type": "code",
   "execution_count": 2,
   "id": "c5abb437",
   "metadata": {
    "execution": {
     "iopub.execute_input": "2022-12-16T06:55:46.537780Z",
     "iopub.status.busy": "2022-12-16T06:55:46.537363Z",
     "iopub.status.idle": "2022-12-16T06:55:46.563307Z",
     "shell.execute_reply": "2022-12-16T06:55:46.562235Z"
    },
    "papermill": {
     "duration": 0.034999,
     "end_time": "2022-12-16T06:55:46.565483",
     "exception": false,
     "start_time": "2022-12-16T06:55:46.530484",
     "status": "completed"
    },
    "tags": []
   },
   "outputs": [
    {
     "data": {
      "application/javascript": [
       "parent.postMessage({\"jupyterEvent\": \"custom.exercise_interaction\", \"data\": {\"outcomeType\": 1, \"valueTowardsCompletion\": 0.16666666666666666, \"interactionType\": 1, \"questionType\": 1, \"questionId\": \"1_ReviewsWritten\", \"learnToolsVersion\": \"0.3.4\", \"failureMessage\": \"\", \"exceptionClass\": \"\", \"trace\": \"\"}}, \"*\")"
      ],
      "text/plain": [
       "<IPython.core.display.Javascript object>"
      ]
     },
     "metadata": {},
     "output_type": "display_data"
    },
    {
     "data": {
      "text/markdown": [
       "<span style=\"color:#33cc33\">Correct:</span> \n",
       "\n",
       "\n",
       "```python\n",
       "reviews_written = reviews.groupby('taster_twitter_handle').size()\n",
       "```\n",
       "or\n",
       "```python\n",
       "reviews_written = reviews.groupby('taster_twitter_handle').taster_twitter_handle.count()\n",
       "```\n"
      ],
      "text/plain": [
       "Correct: \n",
       "\n",
       "\n",
       "```python\n",
       "reviews_written = reviews.groupby('taster_twitter_handle').size()\n",
       "```\n",
       "or\n",
       "```python\n",
       "reviews_written = reviews.groupby('taster_twitter_handle').taster_twitter_handle.count()\n",
       "```"
      ]
     },
     "metadata": {},
     "output_type": "display_data"
    },
    {
     "data": {
      "text/plain": [
       "taster_twitter_handle\n",
       "@AnneInVino          3685\n",
       "@JoeCz               5147\n",
       "@bkfiona               27\n",
       "@gordone_cellars     4177\n",
       "@kerinokeefe        10776\n",
       "@laurbuzz            1835\n",
       "@mattkettmann        6332\n",
       "@paulgwine           9532\n",
       "@suskostrzewa        1085\n",
       "@vboone              9537\n",
       "@vossroger          25514\n",
       "@wawinereport        4966\n",
       "@wineschach         15134\n",
       "@winewchristina         6\n",
       "@worldwineguys       1005\n",
       "dtype: int64"
      ]
     },
     "execution_count": 2,
     "metadata": {},
     "output_type": "execute_result"
    }
   ],
   "source": [
    "# Your code here\n",
    "reviews_written = reviews.groupby('taster_twitter_handle').size()\n",
    "\n",
    "\n",
    "# Check your answer\n",
    "q1.check()\n",
    "reviews_written"
   ]
  },
  {
   "cell_type": "code",
   "execution_count": 3,
   "id": "bb96bfaf",
   "metadata": {
    "execution": {
     "iopub.execute_input": "2022-12-16T06:55:46.579346Z",
     "iopub.status.busy": "2022-12-16T06:55:46.578985Z",
     "iopub.status.idle": "2022-12-16T06:55:46.583123Z",
     "shell.execute_reply": "2022-12-16T06:55:46.582031Z"
    },
    "papermill": {
     "duration": 0.013558,
     "end_time": "2022-12-16T06:55:46.585222",
     "exception": false,
     "start_time": "2022-12-16T06:55:46.571664",
     "status": "completed"
    },
    "tags": []
   },
   "outputs": [],
   "source": [
    "#q1.hint()\n",
    "#q1.solution()"
   ]
  },
  {
   "cell_type": "markdown",
   "id": "f2b921c8",
   "metadata": {
    "papermill": {
     "duration": 0.007425,
     "end_time": "2022-12-16T06:55:46.598664",
     "exception": false,
     "start_time": "2022-12-16T06:55:46.591239",
     "status": "completed"
    },
    "tags": []
   },
   "source": [
    "## 2.\n",
    "What is the best wine I can buy for a given amount of money? Create a `Series` whose index is wine prices and whose values is the maximum number of points a wine costing that much was given in a review. Sort the values by price, ascending (so that `4.0` dollars is at the top and `3300.0` dollars is at the bottom)."
   ]
  },
  {
   "cell_type": "code",
   "execution_count": 4,
   "id": "bc83daee",
   "metadata": {
    "execution": {
     "iopub.execute_input": "2022-12-16T06:55:46.613530Z",
     "iopub.status.busy": "2022-12-16T06:55:46.612625Z",
     "iopub.status.idle": "2022-12-16T06:55:46.628973Z",
     "shell.execute_reply": "2022-12-16T06:55:46.627043Z"
    },
    "papermill": {
     "duration": 0.026407,
     "end_time": "2022-12-16T06:55:46.631283",
     "exception": false,
     "start_time": "2022-12-16T06:55:46.604876",
     "status": "completed"
    },
    "tags": []
   },
   "outputs": [
    {
     "data": {
      "application/javascript": [
       "parent.postMessage({\"jupyterEvent\": \"custom.exercise_interaction\", \"data\": {\"outcomeType\": 1, \"valueTowardsCompletion\": 0.16666666666666666, \"interactionType\": 1, \"questionType\": 1, \"questionId\": \"2_BestRatingPerPrice\", \"learnToolsVersion\": \"0.3.4\", \"failureMessage\": \"\", \"exceptionClass\": \"\", \"trace\": \"\"}}, \"*\")"
      ],
      "text/plain": [
       "<IPython.core.display.Javascript object>"
      ]
     },
     "metadata": {},
     "output_type": "display_data"
    },
    {
     "data": {
      "text/markdown": [
       "<span style=\"color:#33cc33\">Correct</span>"
      ],
      "text/plain": [
       "Correct"
      ]
     },
     "metadata": {},
     "output_type": "display_data"
    }
   ],
   "source": [
    "best_rating_per_price= reviews.groupby('price')['points'].max().sort_index()\n",
    "\n",
    "\n",
    "# Check your answer\n",
    "q2.check()"
   ]
  },
  {
   "cell_type": "code",
   "execution_count": 5,
   "id": "499eebbb",
   "metadata": {
    "execution": {
     "iopub.execute_input": "2022-12-16T06:55:46.648788Z",
     "iopub.status.busy": "2022-12-16T06:55:46.648056Z",
     "iopub.status.idle": "2022-12-16T06:55:46.653278Z",
     "shell.execute_reply": "2022-12-16T06:55:46.651642Z"
    },
    "papermill": {
     "duration": 0.018057,
     "end_time": "2022-12-16T06:55:46.655919",
     "exception": false,
     "start_time": "2022-12-16T06:55:46.637862",
     "status": "completed"
    },
    "tags": []
   },
   "outputs": [],
   "source": [
    "#q2.hint()\n",
    "#q2.solution()"
   ]
  },
  {
   "cell_type": "markdown",
   "id": "e2f41316",
   "metadata": {
    "papermill": {
     "duration": 0.009209,
     "end_time": "2022-12-16T06:55:46.674870",
     "exception": false,
     "start_time": "2022-12-16T06:55:46.665661",
     "status": "completed"
    },
    "tags": []
   },
   "source": [
    "## 3.\n",
    "What are the minimum and maximum prices for each `variety` of wine? Create a `DataFrame` whose index is the `variety` category from the dataset and whose values are the `min` and `max` values thereof."
   ]
  },
  {
   "cell_type": "code",
   "execution_count": 6,
   "id": "dd5466aa",
   "metadata": {
    "execution": {
     "iopub.execute_input": "2022-12-16T06:55:46.698015Z",
     "iopub.status.busy": "2022-12-16T06:55:46.696984Z",
     "iopub.status.idle": "2022-12-16T06:55:46.723386Z",
     "shell.execute_reply": "2022-12-16T06:55:46.722259Z"
    },
    "papermill": {
     "duration": 0.041024,
     "end_time": "2022-12-16T06:55:46.725652",
     "exception": false,
     "start_time": "2022-12-16T06:55:46.684628",
     "status": "completed"
    },
    "tags": []
   },
   "outputs": [
    {
     "data": {
      "application/javascript": [
       "parent.postMessage({\"jupyterEvent\": \"custom.exercise_interaction\", \"data\": {\"outcomeType\": 1, \"valueTowardsCompletion\": 0.16666666666666666, \"interactionType\": 1, \"questionType\": 1, \"questionId\": \"3_PriceExtremes\", \"learnToolsVersion\": \"0.3.4\", \"failureMessage\": \"\", \"exceptionClass\": \"\", \"trace\": \"\"}}, \"*\")"
      ],
      "text/plain": [
       "<IPython.core.display.Javascript object>"
      ]
     },
     "metadata": {},
     "output_type": "display_data"
    },
    {
     "data": {
      "text/markdown": [
       "<span style=\"color:#33cc33\">Correct</span>"
      ],
      "text/plain": [
       "Correct"
      ]
     },
     "metadata": {},
     "output_type": "display_data"
    }
   ],
   "source": [
    "price_extremes = reviews.groupby('variety')['price'].agg(['min','max'])\n",
    "\n",
    "\n",
    "# Check your answer\n",
    "q3.check()"
   ]
  },
  {
   "cell_type": "code",
   "execution_count": 7,
   "id": "77385af2",
   "metadata": {
    "execution": {
     "iopub.execute_input": "2022-12-16T06:55:46.740509Z",
     "iopub.status.busy": "2022-12-16T06:55:46.740142Z",
     "iopub.status.idle": "2022-12-16T06:55:46.744373Z",
     "shell.execute_reply": "2022-12-16T06:55:46.743381Z"
    },
    "papermill": {
     "duration": 0.014438,
     "end_time": "2022-12-16T06:55:46.746605",
     "exception": false,
     "start_time": "2022-12-16T06:55:46.732167",
     "status": "completed"
    },
    "tags": []
   },
   "outputs": [],
   "source": [
    "#q3.hint()\n",
    "#q3.solution()"
   ]
  },
  {
   "cell_type": "markdown",
   "id": "db5adcd4",
   "metadata": {
    "papermill": {
     "duration": 0.006364,
     "end_time": "2022-12-16T06:55:46.759652",
     "exception": false,
     "start_time": "2022-12-16T06:55:46.753288",
     "status": "completed"
    },
    "tags": []
   },
   "source": [
    "## 4.\n",
    "What are the most expensive wine varieties? Create a variable `sorted_varieties` containing a copy of the dataframe from the previous question where varieties are sorted in descending order based on minimum price, then on maximum price (to break ties)."
   ]
  },
  {
   "cell_type": "code",
   "execution_count": 8,
   "id": "c934836e",
   "metadata": {
    "execution": {
     "iopub.execute_input": "2022-12-16T06:55:46.774903Z",
     "iopub.status.busy": "2022-12-16T06:55:46.774133Z",
     "iopub.status.idle": "2022-12-16T06:55:46.785410Z",
     "shell.execute_reply": "2022-12-16T06:55:46.784595Z"
    },
    "papermill": {
     "duration": 0.021125,
     "end_time": "2022-12-16T06:55:46.787408",
     "exception": false,
     "start_time": "2022-12-16T06:55:46.766283",
     "status": "completed"
    },
    "tags": []
   },
   "outputs": [
    {
     "data": {
      "application/javascript": [
       "parent.postMessage({\"jupyterEvent\": \"custom.exercise_interaction\", \"data\": {\"outcomeType\": 1, \"valueTowardsCompletion\": 0.16666666666666666, \"interactionType\": 1, \"questionType\": 1, \"questionId\": \"4_SortedVarieties\", \"learnToolsVersion\": \"0.3.4\", \"failureMessage\": \"\", \"exceptionClass\": \"\", \"trace\": \"\"}}, \"*\")"
      ],
      "text/plain": [
       "<IPython.core.display.Javascript object>"
      ]
     },
     "metadata": {},
     "output_type": "display_data"
    },
    {
     "data": {
      "text/markdown": [
       "<span style=\"color:#33cc33\">Correct</span>"
      ],
      "text/plain": [
       "Correct"
      ]
     },
     "metadata": {},
     "output_type": "display_data"
    }
   ],
   "source": [
    "sorted_varieties = price_extremes.sort_values(by = ['min','max'], ascending = False)\n",
    "q4.check()"
   ]
  },
  {
   "cell_type": "code",
   "execution_count": 9,
   "id": "ece70470",
   "metadata": {
    "execution": {
     "iopub.execute_input": "2022-12-16T06:55:46.803532Z",
     "iopub.status.busy": "2022-12-16T06:55:46.803121Z",
     "iopub.status.idle": "2022-12-16T06:55:46.807441Z",
     "shell.execute_reply": "2022-12-16T06:55:46.806376Z"
    },
    "papermill": {
     "duration": 0.014827,
     "end_time": "2022-12-16T06:55:46.809704",
     "exception": false,
     "start_time": "2022-12-16T06:55:46.794877",
     "status": "completed"
    },
    "tags": []
   },
   "outputs": [],
   "source": [
    "#q4.hint()\n",
    "#q4.solution()"
   ]
  },
  {
   "cell_type": "markdown",
   "id": "54435e57",
   "metadata": {
    "papermill": {
     "duration": 0.006524,
     "end_time": "2022-12-16T06:55:46.823703",
     "exception": false,
     "start_time": "2022-12-16T06:55:46.817179",
     "status": "completed"
    },
    "tags": []
   },
   "source": [
    "## 5.\n",
    "Create a `Series` whose index is reviewers and whose values is the average review score given out by that reviewer. Hint: you will need the `taster_name` and `points` columns."
   ]
  },
  {
   "cell_type": "code",
   "execution_count": 10,
   "id": "403a59b7",
   "metadata": {
    "execution": {
     "iopub.execute_input": "2022-12-16T06:55:46.838808Z",
     "iopub.status.busy": "2022-12-16T06:55:46.838404Z",
     "iopub.status.idle": "2022-12-16T06:55:46.860508Z",
     "shell.execute_reply": "2022-12-16T06:55:46.859141Z"
    },
    "papermill": {
     "duration": 0.032273,
     "end_time": "2022-12-16T06:55:46.862831",
     "exception": false,
     "start_time": "2022-12-16T06:55:46.830558",
     "status": "completed"
    },
    "tags": []
   },
   "outputs": [
    {
     "data": {
      "application/javascript": [
       "parent.postMessage({\"jupyterEvent\": \"custom.exercise_interaction\", \"data\": {\"outcomeType\": 1, \"valueTowardsCompletion\": 0.16666666666666666, \"interactionType\": 1, \"questionType\": 1, \"questionId\": \"5_ReviewerMeanRatings\", \"learnToolsVersion\": \"0.3.4\", \"failureMessage\": \"\", \"exceptionClass\": \"\", \"trace\": \"\"}}, \"*\")"
      ],
      "text/plain": [
       "<IPython.core.display.Javascript object>"
      ]
     },
     "metadata": {},
     "output_type": "display_data"
    },
    {
     "data": {
      "text/markdown": [
       "<span style=\"color:#33cc33\">Correct</span>"
      ],
      "text/plain": [
       "Correct"
      ]
     },
     "metadata": {},
     "output_type": "display_data"
    }
   ],
   "source": [
    "reviewer_mean_ratings = reviews.groupby('taster_name')['points'].mean()\n",
    "\n",
    "# Check your answer\n",
    "q5.check()"
   ]
  },
  {
   "cell_type": "code",
   "execution_count": 11,
   "id": "85b0e8ad",
   "metadata": {
    "execution": {
     "iopub.execute_input": "2022-12-16T06:55:46.878833Z",
     "iopub.status.busy": "2022-12-16T06:55:46.878401Z",
     "iopub.status.idle": "2022-12-16T06:55:46.883096Z",
     "shell.execute_reply": "2022-12-16T06:55:46.881935Z"
    },
    "papermill": {
     "duration": 0.015439,
     "end_time": "2022-12-16T06:55:46.885333",
     "exception": false,
     "start_time": "2022-12-16T06:55:46.869894",
     "status": "completed"
    },
    "tags": []
   },
   "outputs": [],
   "source": [
    "#q5.hint()\n",
    "#q5.solution()"
   ]
  },
  {
   "cell_type": "markdown",
   "id": "82d428e7",
   "metadata": {
    "papermill": {
     "duration": 0.006659,
     "end_time": "2022-12-16T06:55:46.899152",
     "exception": false,
     "start_time": "2022-12-16T06:55:46.892493",
     "status": "completed"
    },
    "tags": []
   },
   "source": [
    "Are there significant differences in the average scores assigned by the various reviewers? Run the cell below to use the `describe()` method to see a summary of the range of values."
   ]
  },
  {
   "cell_type": "code",
   "execution_count": 12,
   "id": "d9ff86aa",
   "metadata": {
    "execution": {
     "iopub.execute_input": "2022-12-16T06:55:46.914819Z",
     "iopub.status.busy": "2022-12-16T06:55:46.914404Z",
     "iopub.status.idle": "2022-12-16T06:55:46.926864Z",
     "shell.execute_reply": "2022-12-16T06:55:46.925782Z"
    },
    "papermill": {
     "duration": 0.023128,
     "end_time": "2022-12-16T06:55:46.929231",
     "exception": false,
     "start_time": "2022-12-16T06:55:46.906103",
     "status": "completed"
    },
    "tags": []
   },
   "outputs": [
    {
     "data": {
      "text/plain": [
       "count    19.000000\n",
       "mean     88.233026\n",
       "std       1.243610\n",
       "min      85.855422\n",
       "25%      87.323501\n",
       "50%      88.536235\n",
       "75%      88.975256\n",
       "max      90.562551\n",
       "Name: points, dtype: float64"
      ]
     },
     "execution_count": 12,
     "metadata": {},
     "output_type": "execute_result"
    }
   ],
   "source": [
    "reviewer_mean_ratings.describe()"
   ]
  },
  {
   "cell_type": "markdown",
   "id": "a1605f9a",
   "metadata": {
    "papermill": {
     "duration": 0.00699,
     "end_time": "2022-12-16T06:55:46.943658",
     "exception": false,
     "start_time": "2022-12-16T06:55:46.936668",
     "status": "completed"
    },
    "tags": []
   },
   "source": [
    "## 6.\n",
    "What combination of countries and varieties are most common? Create a `Series` whose index is a `MultiIndex`of `{country, variety}` pairs. For example, a pinot noir produced in the US should map to `{\"US\", \"Pinot Noir\"}`. Sort the values in the `Series` in descending order based on wine count."
   ]
  },
  {
   "cell_type": "code",
   "execution_count": 13,
   "id": "03e35dc1",
   "metadata": {
    "execution": {
     "iopub.execute_input": "2022-12-16T06:55:46.959921Z",
     "iopub.status.busy": "2022-12-16T06:55:46.959517Z",
     "iopub.status.idle": "2022-12-16T06:55:46.996494Z",
     "shell.execute_reply": "2022-12-16T06:55:46.995455Z"
    },
    "papermill": {
     "duration": 0.04779,
     "end_time": "2022-12-16T06:55:46.998675",
     "exception": false,
     "start_time": "2022-12-16T06:55:46.950885",
     "status": "completed"
    },
    "tags": []
   },
   "outputs": [
    {
     "data": {
      "application/javascript": [
       "parent.postMessage({\"jupyterEvent\": \"custom.exercise_interaction\", \"data\": {\"outcomeType\": 1, \"valueTowardsCompletion\": 0.16666666666666666, \"interactionType\": 1, \"questionType\": 1, \"questionId\": \"6_GroupbyCountryVariety\", \"learnToolsVersion\": \"0.3.4\", \"failureMessage\": \"\", \"exceptionClass\": \"\", \"trace\": \"\"}}, \"*\")"
      ],
      "text/plain": [
       "<IPython.core.display.Javascript object>"
      ]
     },
     "metadata": {},
     "output_type": "display_data"
    },
    {
     "data": {
      "text/markdown": [
       "<span style=\"color:#33cc33\">Correct</span>"
      ],
      "text/plain": [
       "Correct"
      ]
     },
     "metadata": {},
     "output_type": "display_data"
    }
   ],
   "source": [
    "country_variety_counts = reviews.groupby(['country','variety']).size().sort_values(ascending=False)\n",
    "\n",
    "# Check your answer\n",
    "q6.check()"
   ]
  },
  {
   "cell_type": "code",
   "execution_count": 14,
   "id": "81fe98e3",
   "metadata": {
    "execution": {
     "iopub.execute_input": "2022-12-16T06:55:47.015571Z",
     "iopub.status.busy": "2022-12-16T06:55:47.015033Z",
     "iopub.status.idle": "2022-12-16T06:55:47.018836Z",
     "shell.execute_reply": "2022-12-16T06:55:47.018016Z"
    },
    "papermill": {
     "duration": 0.014845,
     "end_time": "2022-12-16T06:55:47.021034",
     "exception": false,
     "start_time": "2022-12-16T06:55:47.006189",
     "status": "completed"
    },
    "tags": []
   },
   "outputs": [],
   "source": [
    "#q6.hint()\n",
    "#q6.solution()"
   ]
  },
  {
   "cell_type": "markdown",
   "id": "bf900dff",
   "metadata": {
    "papermill": {
     "duration": 0.007121,
     "end_time": "2022-12-16T06:55:47.035522",
     "exception": false,
     "start_time": "2022-12-16T06:55:47.028401",
     "status": "completed"
    },
    "tags": []
   },
   "source": [
    "# Keep going\n",
    "\n",
    "Move on to the [**data types and missing data**](https://www.kaggle.com/residentmario/data-types-and-missing-values)."
   ]
  },
  {
   "cell_type": "markdown",
   "id": "5a273e0b",
   "metadata": {
    "papermill": {
     "duration": 0.006969,
     "end_time": "2022-12-16T06:55:47.049792",
     "exception": false,
     "start_time": "2022-12-16T06:55:47.042823",
     "status": "completed"
    },
    "tags": []
   },
   "source": [
    "---\n",
    "\n",
    "\n",
    "\n",
    "\n",
    "*Have questions or comments? Visit the [course discussion forum](https://www.kaggle.com/learn/pandas/discussion) to chat with other learners.*"
   ]
  }
 ],
 "metadata": {
  "kernelspec": {
   "display_name": "Python 3",
   "language": "python",
   "name": "python3"
  },
  "language_info": {
   "codemirror_mode": {
    "name": "ipython",
    "version": 3
   },
   "file_extension": ".py",
   "mimetype": "text/x-python",
   "name": "python",
   "nbconvert_exporter": "python",
   "pygments_lexer": "ipython3",
   "version": "3.7.12"
  },
  "papermill": {
   "default_parameters": {},
   "duration": 12.274227,
   "end_time": "2022-12-16T06:55:47.781659",
   "environment_variables": {},
   "exception": null,
   "input_path": "__notebook__.ipynb",
   "output_path": "__notebook__.ipynb",
   "parameters": {},
   "start_time": "2022-12-16T06:55:35.507432",
   "version": "2.3.4"
  }
 },
 "nbformat": 4,
 "nbformat_minor": 5
}
